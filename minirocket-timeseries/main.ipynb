{
 "cells": [
  {
   "cell_type": "code",
   "execution_count": 101,
   "metadata": {},
   "outputs": [],
   "source": [
    "import sktime\n",
    "import pandas as pd\n",
    "from sktime.transformations.panel.rocket import MiniRocket\n",
    "import statsmodels\n",
    "from joblib import load"
   ]
  },
  {
   "cell_type": "code",
   "execution_count": 102,
   "metadata": {},
   "outputs": [],
   "source": [
    "from sktime.datatypes._panel._convert import(\n",
    "    from_2d_array_to_nested,\n",
    "    from_nested_to_2d_array,\n",
    "    is_nested_dataframe\n",
    ")"
   ]
  },
  {
   "cell_type": "code",
   "execution_count": 103,
   "metadata": {},
   "outputs": [],
   "source": [
    "model = load('./models/forecaster.joblib')"
   ]
  },
  {
   "cell_type": "code",
   "execution_count": 104,
   "metadata": {},
   "outputs": [],
   "source": [
    "data = pd.read_csv(\"./data/BTC-USD.csv\",\n",
    "                    usecols=['Date', 'Close'],\n",
    "                    parse_dates=['Date'],\n",
    "                    infer_datetime_format=True)\n",
    "\n",
    "data = data.set_index('Date').to_period(\"D\")"
   ]
  },
  {
   "cell_type": "code",
   "execution_count": 105,
   "metadata": {},
   "outputs": [],
   "source": [
    "y = data['Close']"
   ]
  },
  {
   "cell_type": "code",
   "execution_count": 106,
   "metadata": {},
   "outputs": [
    {
     "data": {
      "text/plain": [
       "(2619, 30)"
      ]
     },
     "execution_count": 106,
     "metadata": {},
     "output_type": "execute_result"
    }
   ],
   "source": [
    "from statsmodels.tsa.deterministic import CalendarFourier, DeterministicProcess\n",
    "fourier = CalendarFourier(freq=\"M\", order=10)\n",
    "dp = DeterministicProcess(\n",
    "    index = data.index,\n",
    "    constant = True,\n",
    "    order=3,\n",
    "    seasonal=True,\n",
    "    additional_terms=[fourier],\n",
    "    drop=True,\n",
    ")\n",
    "\n",
    "x = dp.in_sample()\n",
    "x.shape"
   ]
  },
  {
   "cell_type": "code",
   "execution_count": 107,
   "metadata": {},
   "outputs": [
    {
     "name": "stdout",
     "output_type": "stream",
     "text": [
      "X is a nested DataFrame: True\n"
     ]
    }
   ],
   "source": [
    "X_2d = x.values\n",
    "X_nested = from_2d_array_to_nested(X_2d)\n",
    "print(f\"X is a nested DataFrame: {is_nested_dataframe(X_nested)}\")"
   ]
  },
  {
   "cell_type": "code",
   "execution_count": 108,
   "metadata": {},
   "outputs": [
    {
     "data": {
      "text/plain": [
       "MiniRocket()"
      ]
     },
     "execution_count": 108,
     "metadata": {},
     "output_type": "execute_result"
    }
   ],
   "source": [
    "minirocket = MiniRocket()\n",
    "minirocket.fit(X_nested)"
   ]
  },
  {
   "cell_type": "code",
   "execution_count": 109,
   "metadata": {},
   "outputs": [
    {
     "data": {
      "text/plain": [
       "(50, 30)"
      ]
     },
     "execution_count": 109,
     "metadata": {},
     "output_type": "execute_result"
    }
   ],
   "source": [
    "pred = dp.out_of_sample(steps=50)\n",
    "pred.index.name = 'date'\n",
    "pred.shape"
   ]
  },
  {
   "cell_type": "code",
   "execution_count": 110,
   "metadata": {},
   "outputs": [
    {
     "name": "stdout",
     "output_type": "stream",
     "text": [
      "Pred is a nested DataFrame: True\n"
     ]
    }
   ],
   "source": [
    "pred_2d = pred.values\n",
    "nested_pred = from_2d_array_to_nested(pred_2d)\n",
    "print(f\"Pred is a nested DataFrame: {is_nested_dataframe(nested_pred)}\")"
   ]
  },
  {
   "cell_type": "code",
   "execution_count": 111,
   "metadata": {},
   "outputs": [
    {
     "data": {
      "text/plain": [
       "(50, 9996)"
      ]
     },
     "execution_count": 111,
     "metadata": {},
     "output_type": "execute_result"
    }
   ],
   "source": [
    "pred_transform = minirocket.transform(nested_pred)\n",
    "pred_transform.shape"
   ]
  },
  {
   "cell_type": "code",
   "execution_count": 115,
   "metadata": {},
   "outputs": [
    {
     "name": "stdout",
     "output_type": "stream",
     "text": [
      "[40528.34, 38841.12, 41894.27, 43583.38, 41729.65, 39648.54, 42900.0, 42225.38, 39484.89, 40799.29, 35357.33, 43516.71, 41485.97, 37859.49, 32675.83, 33389.88, 34956.87, 36589.94, 35166.76, 33111.16, 37685.43, 42054.35, 38832.42, 38467.45, 43175.94, 39772.33, 41237.16, 37357.69, 40686.59, 35975.3, 36909.31, 39727.03, 35850.4, 39672.92, 40060.78, 36090.74, 38315.31, 41413.17, 36959.19, 45776.41, 38321.95, 41430.91, 43046.4, 41581.09, 38366.07, 33042.68, 34142.18, 34970.32, 34900.41, 36646.75]\n"
     ]
    }
   ],
   "source": [
    "preds = []\n",
    "final_pred = model.predict(pred_transform)\n",
    "final_pred[final_pred<0] = 0.0\n",
    "for pred in range(len(final_pred)):\n",
    "    preds.append(round(final_pred[pred],2))\n",
    "print(preds)"
   ]
  }
 ],
 "metadata": {
  "interpreter": {
   "hash": "1201709b39918330bffab8e14fd6ce75b80ee67499f30b5220d5b700703f8c67"
  },
  "kernelspec": {
   "display_name": "Python 3.7.11 64-bit ('minirocket': conda)",
   "language": "python",
   "name": "python3"
  },
  "language_info": {
   "codemirror_mode": {
    "name": "ipython",
    "version": 3
   },
   "file_extension": ".py",
   "mimetype": "text/x-python",
   "name": "python",
   "nbconvert_exporter": "python",
   "pygments_lexer": "ipython3",
   "version": "3.7.11"
  },
  "orig_nbformat": 4
 },
 "nbformat": 4,
 "nbformat_minor": 2
}
