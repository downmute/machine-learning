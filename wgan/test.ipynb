{
 "cells": [
  {
   "cell_type": "code",
   "execution_count": 14,
   "source": [
    "import torch\r\n",
    "import torch.nn as nn\r\n",
    "import matplotlib.pyplot as plt\r\n",
    "import torchvision\r\n",
    "from torchvision.transforms import transforms\r\n",
    "import numpy as np\r\n",
    "import PIL"
   ],
   "outputs": [],
   "metadata": {}
  },
  {
   "cell_type": "code",
   "execution_count": 15,
   "source": [
    "# hyperparameters\r\n",
    "device = torch.device(\"cuda\" if torch.cuda.is_available() else \"cpu\")\r\n",
    "LEARNING_RATE = 2e-4\r\n",
    "BATCH_SIZE = 64\r\n",
    "IMAGE_SIZE = 64\r\n",
    "CHANNELS_IMG = 3 # change according to data\r\n",
    "NOISE_DIM = 100\r\n",
    "NUM_EPOCHS = 5\r\n",
    "FEATURES_DISC = 16\r\n",
    "FEATURES_GEN = 16"
   ],
   "outputs": [],
   "metadata": {}
  },
  {
   "cell_type": "code",
   "execution_count": 16,
   "source": [
    "class Generator(nn.Module):\r\n",
    "    def __init__(self, channels_noise, channels_img, features_g):\r\n",
    "        super(Generator, self).__init__()\r\n",
    "        self.gen = nn.Sequential(\r\n",
    "            # input: N x noise x 1 x 1\r\n",
    "            self._block(channels_noise, features_g * 16, 4, 1, 0), # N x f_g * 16 x 4 x 4\r\n",
    "            self._block(features_g * 16, features_g * 8, 4, 2, 1), # 8 x 8\r\n",
    "            self._block(features_g * 8, features_g*4, 4, 2, 1), # 16 x 16\r\n",
    "            self._block(features_g * 4, features_g*2, 4, 2, 1), # 32 x 32\r\n",
    "            # don't use another block because we dont want batch normalization\r\n",
    "            nn.ConvTranspose2d(\r\n",
    "                features_g*2, channels_img, kernel_size=4, stride=2, padding=1,\r\n",
    "            ),\r\n",
    "            nn.Tanh(), # forces image to be between range [-1, 1] for more effective training\r\n",
    "        )\r\n",
    "\r\n",
    "    def _block(self, in_channels, out_channels, kernel_size, stride, padding):\r\n",
    "        return nn.Sequential(\r\n",
    "            nn.ConvTranspose2d(\r\n",
    "                in_channels,\r\n",
    "                out_channels,\r\n",
    "                kernel_size,\r\n",
    "                stride,\r\n",
    "                padding,\r\n",
    "                bias=False,\r\n",
    "            ),\r\n",
    "            #nn.BatchNorm2d(out_channels),\r\n",
    "            nn.ReLU(),\r\n",
    "        )\r\n",
    "\r\n",
    "    def forward(self, x):\r\n",
    "        return self.gen(x)"
   ],
   "outputs": [],
   "metadata": {}
  },
  {
   "cell_type": "code",
   "execution_count": 17,
   "source": [
    "gen = Generator(NOISE_DIM, CHANNELS_IMG, FEATURES_GEN).to(device)\r\n",
    "gen.load_state_dict(torch.load(\"./models/Generator\"))\r\n",
    "gen.eval()"
   ],
   "outputs": [
    {
     "output_type": "execute_result",
     "data": {
      "text/plain": [
       "Generator(\n",
       "  (gen): Sequential(\n",
       "    (0): Sequential(\n",
       "      (0): ConvTranspose2d(100, 256, kernel_size=(4, 4), stride=(1, 1), bias=False)\n",
       "      (1): ReLU()\n",
       "    )\n",
       "    (1): Sequential(\n",
       "      (0): ConvTranspose2d(256, 128, kernel_size=(4, 4), stride=(2, 2), padding=(1, 1), bias=False)\n",
       "      (1): ReLU()\n",
       "    )\n",
       "    (2): Sequential(\n",
       "      (0): ConvTranspose2d(128, 64, kernel_size=(4, 4), stride=(2, 2), padding=(1, 1), bias=False)\n",
       "      (1): ReLU()\n",
       "    )\n",
       "    (3): Sequential(\n",
       "      (0): ConvTranspose2d(64, 32, kernel_size=(4, 4), stride=(2, 2), padding=(1, 1), bias=False)\n",
       "      (1): ReLU()\n",
       "    )\n",
       "    (4): ConvTranspose2d(32, 3, kernel_size=(4, 4), stride=(2, 2), padding=(1, 1))\n",
       "    (5): Tanh()\n",
       "  )\n",
       ")"
      ]
     },
     "metadata": {},
     "execution_count": 17
    }
   ],
   "metadata": {}
  },
  {
   "cell_type": "code",
   "execution_count": 18,
   "source": [
    "def show(img):\r\n",
    "    npimg = img.numpy()\r\n",
    "    plt.imshow(np.transpose(npimg, (1,2,0)), interpolation='nearest')"
   ],
   "outputs": [],
   "metadata": {}
  },
  {
   "cell_type": "code",
   "execution_count": 19,
   "source": [
    "fixed_noise = torch.randn(1, 100, 1, 1).to(device)\r\n",
    "fake = gen(fixed_noise)\r\n",
    "\r\n",
    "fake_img = torchvision.utils.make_grid(\r\n",
    "                    fake[:1], normalize=True\r\n",
    "                )"
   ],
   "outputs": [],
   "metadata": {}
  },
  {
   "cell_type": "code",
   "execution_count": 20,
   "source": [
    "show(fake_img)"
   ],
   "outputs": [
    {
     "output_type": "display_data",
     "data": {
      "image/png": "[encoded data removed]",
      "text/plain": [
       "<Figure size 432x288 with 1 Axes>"
      ]
     },
     "metadata": {
      "needs_background": "light"
     }
    }
   ],
   "metadata": {}
  },
  {
   "cell_type": "code",
   "execution_count": 21,
   "source": [
    "print(fake_img.size())\r\n"
   ],
   "outputs": [
    {
     "output_type": "stream",
     "name": "stdout",
     "text": [
      "torch.Size([3, 64, 64])\n"
     ]
    }
   ],
   "metadata": {}
  },
  {
   "cell_type": "code",
   "execution_count": null,
   "source": [],
   "outputs": [],
   "metadata": {}
  }
 ],
 "metadata": {
  "orig_nbformat": 4,
  "language_info": {
   "name": "python",
   "version": "3.7.11",
   "mimetype": "text/x-python",
   "codemirror_mode": {
    "name": "ipython",
    "version": 3
   },
   "pygments_lexer": "ipython3",
   "nbconvert_exporter": "python",
   "file_extension": ".py"
  },
  "kernelspec": {
   "name": "python3",
   "display_name": "Python 3.7.11 64-bit ('pytorch': conda)"
  },
  "interpreter": {
   "hash": "8a566900cd78865d743499dea7f00735b8bf77dfcdff2131ce879e01a8a3baaa"
  }
 },
 "nbformat": 4,
 "nbformat_minor": 2
}